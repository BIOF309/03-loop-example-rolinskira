{
 "cells": [
  {
   "cell_type": "code",
   "execution_count": 1,
   "metadata": {
    "collapsed": true
   },
   "outputs": [],
   "source": [
    "#real life example of a loop \n",
    "packing = ['kindle ereader', \n",
    "           'headphones', \n",
    "           'toothbrush', \n",
    "           'toothpaste', \n",
    "           'face wash', \n",
    "           'hairbrush', \n",
    "           'sweatshirt', \n",
    "           'tennis shoes', \n",
    "           'boarding pass']"
   ]
  },
  {
   "cell_type": "code",
   "execution_count": 2,
   "metadata": {},
   "outputs": [
    {
     "name": "stdout",
     "output_type": "stream",
     "text": [
      "The total number of items on your packing list is:\n"
     ]
    },
    {
     "data": {
      "text/plain": [
       "9"
      ]
     },
     "execution_count": 2,
     "metadata": {},
     "output_type": "execute_result"
    }
   ],
   "source": [
    "print(\"The total number of items on your packing list is:\")\n",
    "len(packing)"
   ]
  },
  {
   "cell_type": "code",
   "execution_count": 3,
   "metadata": {},
   "outputs": [
    {
     "data": {
      "text/plain": [
       "'toothpaste'"
      ]
     },
     "execution_count": 3,
     "metadata": {},
     "output_type": "execute_result"
    }
   ],
   "source": [
    "packing[3] "
   ]
  },
  {
   "cell_type": "code",
   "execution_count": 4,
   "metadata": {},
   "outputs": [
    {
     "name": "stdout",
     "output_type": "stream",
     "text": [
      "You still have more to pack!\n",
      "This is how many items you have left to pack:\n",
      "9\n",
      "These are the items you have left to pack:\n",
      "['kindle ereader', 'headphones', 'toothbrush', 'toothpaste', 'face wash', 'hairbrush', 'sweatshirt', 'tennis shoes', 'boarding pass']\n",
      "............\n",
      "You still have more to pack!\n",
      "This is how many items you have left to pack:\n",
      "8\n",
      "These are the items you have left to pack:\n",
      "['headphones', 'toothbrush', 'toothpaste', 'face wash', 'hairbrush', 'sweatshirt', 'tennis shoes', 'boarding pass']\n",
      "............\n",
      "You still have more to pack!\n",
      "This is how many items you have left to pack:\n",
      "7\n",
      "These are the items you have left to pack:\n",
      "['toothbrush', 'toothpaste', 'face wash', 'hairbrush', 'sweatshirt', 'tennis shoes', 'boarding pass']\n",
      "............\n",
      "You still have more to pack!\n",
      "This is how many items you have left to pack:\n",
      "6\n",
      "These are the items you have left to pack:\n",
      "['toothpaste', 'face wash', 'hairbrush', 'sweatshirt', 'tennis shoes', 'boarding pass']\n",
      "............\n",
      "You still have more to pack!\n",
      "This is how many items you have left to pack:\n",
      "5\n",
      "These are the items you have left to pack:\n",
      "['face wash', 'hairbrush', 'sweatshirt', 'tennis shoes', 'boarding pass']\n",
      "............\n",
      "You still have more to pack!\n",
      "This is how many items you have left to pack:\n",
      "4\n",
      "These are the items you have left to pack:\n",
      "['hairbrush', 'sweatshirt', 'tennis shoes', 'boarding pass']\n",
      "............\n",
      "You still have more to pack!\n",
      "This is how many items you have left to pack:\n",
      "3\n",
      "These are the items you have left to pack:\n",
      "['sweatshirt', 'tennis shoes', 'boarding pass']\n",
      "............\n",
      "You still have more to pack!\n",
      "This is how many items you have left to pack:\n",
      "2\n",
      "These are the items you have left to pack:\n",
      "['tennis shoes', 'boarding pass']\n",
      "............\n",
      "You still have more to pack!\n",
      "This is how many items you have left to pack:\n",
      "1\n",
      "These are the items you have left to pack:\n",
      "['boarding pass']\n",
      "............\n",
      "You're all packed and ready to go... have a great trip!\n"
     ]
    }
   ],
   "source": [
    "for done in packing:\n",
    "    while len(packing) > 0:\n",
    "        print(\"You still have more to pack!\")\n",
    "        print(\"This is how many items you have left to pack:\")\n",
    "        print(len(packing))\n",
    "        print(\"These are the items you have left to pack:\")\n",
    "        print(packing)\n",
    "        print('............')\n",
    "        del(packing[0])\n",
    "    else:\n",
    "        print(\"You're all packed and ready to go... have a great trip!\")"
   ]
  },
  {
   "cell_type": "code",
   "execution_count": null,
   "metadata": {
    "collapsed": true
   },
   "outputs": [],
   "source": [
    "%%writefile my_script.py\n"
   ]
  },
  {
   "cell_type": "code",
   "execution_count": 5,
   "metadata": {},
   "outputs": [
    {
     "name": "stdout",
     "output_type": "stream",
     "text": [
      "/Users/rachelrolinski/Desktop/BIOF309_Fall2017\r\n"
     ]
    }
   ],
   "source": [
    "!pwd"
   ]
  },
  {
   "cell_type": "code",
   "execution_count": null,
   "metadata": {
    "collapsed": true
   },
   "outputs": [],
   "source": []
  }
 ],
 "metadata": {
  "kernelspec": {
   "display_name": "Python 3",
   "language": "python",
   "name": "python3"
  },
  "language_info": {
   "codemirror_mode": {
    "name": "ipython",
    "version": 3
   },
   "file_extension": ".py",
   "mimetype": "text/x-python",
   "name": "python",
   "nbconvert_exporter": "python",
   "pygments_lexer": "ipython3",
   "version": "3.6.1"
  }
 },
 "nbformat": 4,
 "nbformat_minor": 2
}
