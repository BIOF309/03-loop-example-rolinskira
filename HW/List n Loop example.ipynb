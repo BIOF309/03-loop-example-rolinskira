{
 "cells": [
  {
   "cell_type": "code",
   "execution_count": 1,
   "metadata": {},
   "outputs": [
    {
     "name": "stdout",
     "output_type": "stream",
     "text": [
      "\u001b[1m\u001b[36m01_Jupyter-Notebooks\u001b[m\u001b[m/                \u001b[1m\u001b[36m13_Biopython\u001b[m\u001b[m/\r\n",
      "\u001b[1m\u001b[36m02_UNIX\u001b[m\u001b[m/                             \u001b[1m\u001b[36m14_Student-Presentations\u001b[m\u001b[m/\r\n",
      "\u001b[1m\u001b[36m03_Git\u001b[m\u001b[m/                              Lists and Loops lecture 10-16.ipynb\r\n",
      "\u001b[1m\u001b[36m04_Data-Structures\u001b[m\u001b[m/                  README.md\r\n",
      "\u001b[1m\u001b[36m06_Loops\u001b[m\u001b[m/                            \u001b[1m\u001b[36mSyllabus_and_Schedule\u001b[m\u001b[m/\r\n",
      "\u001b[1m\u001b[36m07_Conditionals\u001b[m\u001b[m/                     Untitled.ipynb\r\n",
      "\u001b[1m\u001b[36m08_Functions\u001b[m\u001b[m/                        \u001b[1m\u001b[36mcheatsheets\u001b[m\u001b[m/\r\n",
      "\u001b[1m\u001b[36m09_NumPy\u001b[m\u001b[m/                            \u001b[1m\u001b[36mconfig\u001b[m\u001b[m/\r\n",
      "\u001b[1m\u001b[36m10_Pandas\u001b[m\u001b[m/                           \u001b[1m\u001b[36mscripts\u001b[m\u001b[m/\r\n",
      "\u001b[1m\u001b[36m11_DataViz\u001b[m\u001b[m/                          untitled.txt\r\n",
      "\u001b[1m\u001b[36m12_Machine-Learning\u001b[m\u001b[m/\r\n"
     ]
    }
   ],
   "source": [
    "ls"
   ]
  },
  {
   "cell_type": "code",
   "execution_count": 2,
   "metadata": {
    "collapsed": true
   },
   "outputs": [],
   "source": [
    "#lists and loops\n",
    "a = ['Chelsea', 'Kimberley', 'Arup', 'Christopher', 'Sherine', 'Mason', 'Devikala', 'Drew', 'Somayeh', 'Melpomeni', 'Siyoung', 'Shennon', 'David', 'Ryan', 'Naisarg', 'Maria', 'Mohammad', 'Rachel', 'Daron', 'Kat', 'Kelsey', 'James', 'Maggie', 'Saad', 'Aditi', 'Brigette', 'Jaira', 'Christopher', 'Gernot', 'Taylor', 'Vasilisa', 'Sureshbabu', 'Thomas', 'Tejpal', 'Mahesh', 'Jakob', 'Victoria', 'Brian', 'Dakota', 'Jiman', 'Lauren', 'Billy', 'Jesse', 'John', 'Veronica', 'Kyle', 'Michael', 'Hassan', 'Mathew', 'Ida', 'Irina', 'Chen', 'Margaret', 'Timothy', 'Yiquan', 'Renbin', 'Erik']"
   ]
  },
  {
   "cell_type": "code",
   "execution_count": 3,
   "metadata": {},
   "outputs": [
    {
     "data": {
      "text/plain": [
       "57"
      ]
     },
     "execution_count": 3,
     "metadata": {},
     "output_type": "execute_result"
    }
   ],
   "source": [
    "#print length of list\n",
    "len(a)"
   ]
  },
  {
   "cell_type": "code",
   "execution_count": 4,
   "metadata": {},
   "outputs": [
    {
     "data": {
      "text/plain": [
       "list"
      ]
     },
     "execution_count": 4,
     "metadata": {},
     "output_type": "execute_result"
    }
   ],
   "source": [
    "#print type of list\n",
    "type(a)"
   ]
  },
  {
   "cell_type": "code",
   "execution_count": 5,
   "metadata": {},
   "outputs": [
    {
     "data": {
      "text/plain": [
       "'Chelsea'"
      ]
     },
     "execution_count": 5,
     "metadata": {},
     "output_type": "execute_result"
    }
   ],
   "source": [
    "#index the first student on the list\n",
    "a[0]"
   ]
  },
  {
   "cell_type": "code",
   "execution_count": 7,
   "metadata": {},
   "outputs": [
    {
     "data": {
      "text/plain": [
       "'Erik'"
      ]
     },
     "execution_count": 7,
     "metadata": {},
     "output_type": "execute_result"
    }
   ],
   "source": [
    "#index (print) the last student on the list\n",
    "a[-1]"
   ]
  },
  {
   "cell_type": "code",
   "execution_count": 8,
   "metadata": {},
   "outputs": [
    {
     "data": {
      "text/plain": [
       "2"
      ]
     },
     "execution_count": 8,
     "metadata": {},
     "output_type": "execute_result"
    }
   ],
   "source": [
    "#print how many 'e's there are in the first index (ie Chelsea has 2 e's)\n",
    "a[0].count('e')"
   ]
  },
  {
   "cell_type": "code",
   "execution_count": 9,
   "metadata": {},
   "outputs": [
    {
     "data": {
      "text/plain": [
       "range(0, 10)"
      ]
     },
     "execution_count": 9,
     "metadata": {},
     "output_type": "execute_result"
    }
   ],
   "source": [
    "range(10)"
   ]
  },
  {
   "cell_type": "code",
   "execution_count": 11,
   "metadata": {},
   "outputs": [
    {
     "name": "stdout",
     "output_type": "stream",
     "text": [
      "0\n",
      "1\n",
      "2\n",
      "3\n",
      "4\n",
      "5\n",
      "6\n",
      "7\n",
      "8\n",
      "9\n"
     ]
    }
   ],
   "source": [
    "#for loop needs colon, 4 space indent\n",
    "for i in range(10):\n",
    "    print(i)"
   ]
  },
  {
   "cell_type": "code",
   "execution_count": 12,
   "metadata": {},
   "outputs": [
    {
     "name": "stdout",
     "output_type": "stream",
     "text": [
      "Chelsea\n",
      "Kimberley\n",
      "Arup\n",
      "Christopher\n",
      "Sherine\n",
      "Mason\n",
      "Devikala\n",
      "Drew\n",
      "Somayeh\n",
      "Melpomeni\n",
      "Siyoung\n",
      "Shennon\n",
      "David\n",
      "Ryan\n",
      "Naisarg\n",
      "Maria\n",
      "Mohammad\n",
      "Rachel\n",
      "Daron\n",
      "Kat\n",
      "Kelsey\n",
      "James\n",
      "Maggie\n",
      "Saad\n",
      "Aditi\n",
      "Brigette\n",
      "Jaira\n",
      "Christopher\n",
      "Gernot\n",
      "Taylor\n",
      "Vasilisa\n",
      "Sureshbabu\n",
      "Thomas\n",
      "Tejpal\n",
      "Mahesh\n",
      "Jakob\n",
      "Victoria\n",
      "Brian\n",
      "Dakota\n",
      "Jiman\n",
      "Lauren\n",
      "Billy\n",
      "Jesse\n",
      "John\n",
      "Veronica\n",
      "Kyle\n",
      "Michael\n",
      "Hassan\n",
      "Mathew\n",
      "Ida\n",
      "Irina\n",
      "Chen\n",
      "Margaret\n",
      "Timothy\n",
      "Yiquan\n",
      "Renbin\n",
      "Erik\n"
     ]
    }
   ],
   "source": [
    "#name variable as element then print all names in list a \n",
    "for element in a:\n",
    "    print(element)"
   ]
  },
  {
   "cell_type": "code",
   "execution_count": 17,
   "metadata": {},
   "outputs": [
    {
     "name": "stdout",
     "output_type": "stream",
     "text": [
      "0\n",
      "1\n",
      "2\n",
      "3\n",
      "4\n",
      "5\n",
      "6\n",
      "7\n",
      "8\n",
      "9\n",
      "10\n",
      "11\n",
      "12\n",
      "13\n",
      "14\n",
      "15\n",
      "16\n",
      "17\n",
      "18\n",
      "19\n",
      "20\n",
      "21\n",
      "22\n",
      "23\n",
      "24\n",
      "25\n",
      "26\n",
      "27\n",
      "28\n",
      "29\n",
      "30\n",
      "31\n",
      "32\n",
      "33\n",
      "34\n",
      "35\n",
      "36\n",
      "37\n",
      "38\n",
      "39\n",
      "40\n",
      "41\n",
      "42\n",
      "43\n",
      "44\n",
      "45\n",
      "46\n",
      "47\n",
      "48\n",
      "49\n",
      "50\n",
      "51\n",
      "52\n",
      "53\n",
      "54\n",
      "55\n",
      "56\n"
     ]
    }
   ],
   "source": [
    "#print the range of a under variable name 'names'\n",
    "for names in range(len(a)):\n",
    "    print(names)"
   ]
  },
  {
   "cell_type": "code",
   "execution_count": 18,
   "metadata": {},
   "outputs": [
    {
     "name": "stdout",
     "output_type": "stream",
     "text": [
      "0\n",
      "Chelsea\n",
      "1\n",
      "Kimberley\n",
      "2\n",
      "Arup\n",
      "3\n",
      "Christopher\n",
      "4\n",
      "Sherine\n",
      "5\n",
      "Mason\n",
      "6\n",
      "Devikala\n",
      "7\n",
      "Drew\n",
      "8\n",
      "Somayeh\n",
      "9\n",
      "Melpomeni\n",
      "10\n",
      "Siyoung\n",
      "11\n",
      "Shennon\n",
      "12\n",
      "David\n",
      "13\n",
      "Ryan\n",
      "14\n",
      "Naisarg\n",
      "15\n",
      "Maria\n",
      "16\n",
      "Mohammad\n",
      "17\n",
      "Rachel\n",
      "18\n",
      "Daron\n",
      "19\n",
      "Kat\n",
      "20\n",
      "Kelsey\n",
      "21\n",
      "James\n",
      "22\n",
      "Maggie\n",
      "23\n",
      "Saad\n",
      "24\n",
      "Aditi\n",
      "25\n",
      "Brigette\n",
      "26\n",
      "Jaira\n",
      "27\n",
      "Christopher\n",
      "28\n",
      "Gernot\n",
      "29\n",
      "Taylor\n",
      "30\n",
      "Vasilisa\n",
      "31\n",
      "Sureshbabu\n",
      "32\n",
      "Thomas\n",
      "33\n",
      "Tejpal\n",
      "34\n",
      "Mahesh\n",
      "35\n",
      "Jakob\n",
      "36\n",
      "Victoria\n",
      "37\n",
      "Brian\n",
      "38\n",
      "Dakota\n",
      "39\n",
      "Jiman\n",
      "40\n",
      "Lauren\n",
      "41\n",
      "Billy\n",
      "42\n",
      "Jesse\n",
      "43\n",
      "John\n",
      "44\n",
      "Veronica\n",
      "45\n",
      "Kyle\n",
      "46\n",
      "Michael\n",
      "47\n",
      "Hassan\n",
      "48\n",
      "Mathew\n",
      "49\n",
      "Ida\n",
      "50\n",
      "Irina\n",
      "51\n",
      "Chen\n",
      "52\n",
      "Margaret\n",
      "53\n",
      "Timothy\n",
      "54\n",
      "Yiquan\n",
      "55\n",
      "Renbin\n",
      "56\n",
      "Erik\n"
     ]
    }
   ],
   "source": [
    "#for variable names, print range and list a\n",
    "for names in range(len(a)):\n",
    "    print(names)\n",
    "    print(a[names])"
   ]
  },
  {
   "cell_type": "code",
   "execution_count": 21,
   "metadata": {},
   "outputs": [
    {
     "name": "stdout",
     "output_type": "stream",
     "text": [
      "R\n",
      "a\n",
      "c\n",
      "h\n",
      "e\n",
      "l\n"
     ]
    }
   ],
   "source": [
    "for me in a[17]:\n",
    "    print(me)"
   ]
  },
  {
   "cell_type": "code",
   "execution_count": 23,
   "metadata": {
    "collapsed": true
   },
   "outputs": [],
   "source": [
    "#initialize empty array\n",
    "lengths = []"
   ]
  },
  {
   "cell_type": "code",
   "execution_count": 28,
   "metadata": {
    "collapsed": true
   },
   "outputs": [],
   "source": [
    "#add item to empty list 'lengths' by using lengths.append(l)\n",
    "for i in range(len(a)):\n",
    "    l = len(a[i])\n",
    "    lengths.append(l)"
   ]
  },
  {
   "cell_type": "code",
   "execution_count": 25,
   "metadata": {},
   "outputs": [
    {
     "data": {
      "text/plain": [
       "list"
      ]
     },
     "execution_count": 25,
     "metadata": {},
     "output_type": "execute_result"
    }
   ],
   "source": [
    "type(lengths)"
   ]
  },
  {
   "cell_type": "code",
   "execution_count": 26,
   "metadata": {},
   "outputs": [
    {
     "data": {
      "text/plain": [
       "'Chelsea'"
      ]
     },
     "execution_count": 26,
     "metadata": {},
     "output_type": "execute_result"
    }
   ],
   "source": [
    "a[0]"
   ]
  },
  {
   "cell_type": "code",
   "execution_count": 27,
   "metadata": {},
   "outputs": [
    {
     "data": {
      "text/plain": [
       "7"
      ]
     },
     "execution_count": 27,
     "metadata": {},
     "output_type": "execute_result"
    }
   ],
   "source": [
    "len(a[0])"
   ]
  },
  {
   "cell_type": "code",
   "execution_count": 29,
   "metadata": {
    "collapsed": true
   },
   "outputs": [],
   "source": [
    "#add item to empty list 'lengths' by using lengths.append(l)\n",
    "for i in range(len(a)):\n",
    "    l = len(a[i])\n",
    "    lengths.append(l)"
   ]
  },
  {
   "cell_type": "code",
   "execution_count": 30,
   "metadata": {},
   "outputs": [
    {
     "name": "stdout",
     "output_type": "stream",
     "text": [
      "[7, 9, 4, 11, 7, 5, 8, 4, 7, 9, 7, 7, 5, 4, 7, 5, 8, 6, 5, 3, 6, 5, 6, 4, 5, 8, 5, 11, 6, 6, 8, 10, 6, 6, 6, 5, 8, 5, 6, 5, 6, 5, 5, 4, 8, 4, 7, 6, 6, 3, 5, 4, 8, 7, 6, 6, 4, 7, 9, 4, 11, 7, 5, 8, 4, 7, 9, 7, 7, 5, 4, 7, 5, 8, 6, 5, 3, 6, 5, 6, 4, 5, 8, 5, 11, 6, 6, 8, 10, 6, 6, 6, 5, 8, 5, 6, 5, 6, 5, 5, 4, 8, 4, 7, 6, 6, 3, 5, 4, 8, 7, 6, 6, 4, 7, 9, 4, 11, 7, 5, 8, 4, 7, 9, 7, 7, 5, 4, 7, 5, 8, 6, 5, 3, 6, 5, 6, 4, 5, 8, 5, 11, 6, 6, 8, 10, 6, 6, 6, 5, 8, 5, 6, 5, 6, 5, 5, 4, 8, 4, 7, 6, 6, 3, 5, 4, 8, 7, 6, 6, 4]\n"
     ]
    }
   ],
   "source": [
    "print(lengths)"
   ]
  },
  {
   "cell_type": "code",
   "execution_count": 31,
   "metadata": {},
   "outputs": [
    {
     "name": "stdout",
     "output_type": "stream",
     "text": [
      "6\n"
     ]
    }
   ],
   "source": [
    "#\n",
    "print(lengths[17])"
   ]
  },
  {
   "cell_type": "code",
   "execution_count": 34,
   "metadata": {},
   "outputs": [
    {
     "data": {
      "text/plain": [
       "False"
      ]
     },
     "execution_count": 34,
     "metadata": {},
     "output_type": "execute_result"
    }
   ],
   "source": [
    "len(lengths) == len(a)"
   ]
  },
  {
   "cell_type": "code",
   "execution_count": 35,
   "metadata": {},
   "outputs": [
    {
     "data": {
      "text/plain": [
       "171"
      ]
     },
     "execution_count": 35,
     "metadata": {},
     "output_type": "execute_result"
    }
   ],
   "source": [
    "len(lengths)"
   ]
  },
  {
   "cell_type": "code",
   "execution_count": 36,
   "metadata": {
    "collapsed": true
   },
   "outputs": [],
   "source": [
    "lengths = []"
   ]
  },
  {
   "cell_type": "code",
   "execution_count": 37,
   "metadata": {},
   "outputs": [
    {
     "data": {
      "text/plain": [
       "0.0"
      ]
     },
     "execution_count": 37,
     "metadata": {},
     "output_type": "execute_result"
    }
   ],
   "source": [
    "len(lengths)/3.0"
   ]
  },
  {
   "cell_type": "code",
   "execution_count": 38,
   "metadata": {},
   "outputs": [
    {
     "data": {
      "text/plain": [
       "57"
      ]
     },
     "execution_count": 38,
     "metadata": {},
     "output_type": "execute_result"
    }
   ],
   "source": [
    "len(a)"
   ]
  },
  {
   "cell_type": "code",
   "execution_count": 39,
   "metadata": {},
   "outputs": [
    {
     "data": {
      "text/plain": [
       "171"
      ]
     },
     "execution_count": 39,
     "metadata": {},
     "output_type": "execute_result"
    }
   ],
   "source": [
    "len(a) * 3"
   ]
  },
  {
   "cell_type": "code",
   "execution_count": 40,
   "metadata": {},
   "outputs": [
    {
     "data": {
      "text/plain": [
       "0"
      ]
     },
     "execution_count": 40,
     "metadata": {},
     "output_type": "execute_result"
    }
   ],
   "source": [
    "len(lengths)"
   ]
  },
  {
   "cell_type": "code",
   "execution_count": 41,
   "metadata": {
    "collapsed": true
   },
   "outputs": [],
   "source": [
    "#add item to empty list 'lengths' by using lengths.append(l)\n",
    "for i in range(len(a)):\n",
    "    l = len(a[i])\n",
    "    lengths.append(l)"
   ]
  },
  {
   "cell_type": "code",
   "execution_count": 44,
   "metadata": {},
   "outputs": [
    {
     "data": {
      "text/plain": [
       "57"
      ]
     },
     "execution_count": 44,
     "metadata": {},
     "output_type": "execute_result"
    }
   ],
   "source": [
    "len(lengths)\n"
   ]
  },
  {
   "cell_type": "code",
   "execution_count": 45,
   "metadata": {},
   "outputs": [
    {
     "data": {
      "text/plain": [
       "57"
      ]
     },
     "execution_count": 45,
     "metadata": {},
     "output_type": "execute_result"
    }
   ],
   "source": [
    "len(a)"
   ]
  },
  {
   "cell_type": "code",
   "execution_count": 46,
   "metadata": {},
   "outputs": [
    {
     "data": {
      "text/plain": [
       "True"
      ]
     },
     "execution_count": 46,
     "metadata": {},
     "output_type": "execute_result"
    }
   ],
   "source": [
    "len(lengths) == len(a)"
   ]
  },
  {
   "cell_type": "code",
   "execution_count": 55,
   "metadata": {
    "collapsed": true
   },
   "outputs": [],
   "source": [
    "#pseudo-code: calculate the sum of the lengths\n",
    "# 1. call lengths\n",
    "# 2. add up sum of lenghts\n",
    "# 3. print result"
   ]
  },
  {
   "cell_type": "code",
   "execution_count": 53,
   "metadata": {},
   "outputs": [],
   "source": [
    "c = 0"
   ]
  },
  {
   "cell_type": "code",
   "execution_count": 58,
   "metadata": {},
   "outputs": [
    {
     "name": "stdout",
     "output_type": "stream",
     "text": [
      "[7, 9, 4, 11, 7, 5, 8, 4, 7, 9, 7, 7, 5, 4, 7, 5, 8, 6, 5, 3, 6, 5, 6, 4, 5, 8, 5, 11, 6, 6, 8, 10, 6, 6, 6, 5, 8, 5, 6, 5, 6, 5, 5, 4, 8, 4, 7, 6, 6, 3, 5, 4, 8, 7, 6, 6, 4]\n"
     ]
    }
   ],
   "source": [
    "print(lengths)"
   ]
  },
  {
   "cell_type": "code",
   "execution_count": 60,
   "metadata": {},
   "outputs": [
    {
     "ename": "TypeError",
     "evalue": "'list' object is not callable",
     "output_type": "error",
     "traceback": [
      "\u001b[0;31m---------------------------------------------------------------------------\u001b[0m",
      "\u001b[0;31mTypeError\u001b[0m                                 Traceback (most recent call last)",
      "\u001b[0;32m<ipython-input-60-31558048ad18>\u001b[0m in \u001b[0;36m<module>\u001b[0;34m()\u001b[0m\n\u001b[1;32m      1\u001b[0m \u001b[0;32mfor\u001b[0m \u001b[0msum\u001b[0m \u001b[0;32min\u001b[0m \u001b[0mrange\u001b[0m\u001b[0;34m(\u001b[0m\u001b[0mlen\u001b[0m\u001b[0;34m(\u001b[0m\u001b[0mlengths\u001b[0m\u001b[0;34m)\u001b[0m\u001b[0;34m)\u001b[0m\u001b[0;34m:\u001b[0m\u001b[0;34m\u001b[0m\u001b[0m\n\u001b[0;32m----> 2\u001b[0;31m     \u001b[0mc\u001b[0m \u001b[0;34m=\u001b[0m \u001b[0mc\u001b[0m \u001b[0;34m+\u001b[0m \u001b[0mlengths\u001b[0m\u001b[0;34m(\u001b[0m\u001b[0msum\u001b[0m\u001b[0;34m)\u001b[0m\u001b[0;34m\u001b[0m\u001b[0m\n\u001b[0m",
      "\u001b[0;31mTypeError\u001b[0m: 'list' object is not callable"
     ]
    }
   ],
   "source": [
    "for sum in range(len(lengths)):\n",
    "    c = c + lengths(sum)"
   ]
  },
  {
   "cell_type": "code",
   "execution_count": 62,
   "metadata": {},
   "outputs": [],
   "source": [
    "k = []"
   ]
  },
  {
   "cell_type": "code",
   "execution_count": 64,
   "metadata": {},
   "outputs": [
    {
     "ename": "TypeError",
     "evalue": "'int' object is not iterable",
     "output_type": "error",
     "traceback": [
      "\u001b[0;31m---------------------------------------------------------------------------\u001b[0m",
      "\u001b[0;31mTypeError\u001b[0m                                 Traceback (most recent call last)",
      "\u001b[0;32m<ipython-input-64-0f8e54196b2e>\u001b[0m in \u001b[0;36m<module>\u001b[0;34m()\u001b[0m\n\u001b[1;32m      1\u001b[0m \u001b[0;32mfor\u001b[0m \u001b[0mi\u001b[0m \u001b[0;32min\u001b[0m \u001b[0ma\u001b[0m\u001b[0;34m:\u001b[0m\u001b[0;34m\u001b[0m\u001b[0m\n\u001b[0;32m----> 2\u001b[0;31m     \u001b[0mk\u001b[0m \u001b[0;34m+=\u001b[0m \u001b[0mlen\u001b[0m\u001b[0;34m(\u001b[0m\u001b[0mi\u001b[0m\u001b[0;34m)\u001b[0m\u001b[0;34m\u001b[0m\u001b[0m\n\u001b[0m",
      "\u001b[0;31mTypeError\u001b[0m: 'int' object is not iterable"
     ]
    }
   ],
   "source": [
    "for i in a:\n",
    "    k += len(i)"
   ]
  },
  {
   "cell_type": "code",
   "execution_count": 65,
   "metadata": {},
   "outputs": [
    {
     "data": {
      "text/plain": [
       "'ChelseaKimberleyArupChristopherSherineMasonDevikalaDrewSomayehMelpomeniSiyoungShennonDavidRyanNaisargMariaMohammadRachelDaronKatKelseyJamesMaggieSaadAditiBrigetteJairaChristopherGernotTaylorVasilisaSureshbabuThomasTejpalMaheshJakobVictoriaBrianDakotaJimanLaurenBillyJesseJohnVeronicaKyleMichaelHassanMathewIdaIrinaChenMargaretTimothyYiquanRenbinErik'"
      ]
     },
     "execution_count": 65,
     "metadata": {},
     "output_type": "execute_result"
    }
   ],
   "source": [
    "#join list into one long string\n",
    "''.join(a)"
   ]
  },
  {
   "cell_type": "code",
   "execution_count": 66,
   "metadata": {},
   "outputs": [
    {
     "name": "stdout",
     "output_type": "stream",
     "text": [
      "ChelseaKimberleyArupChristopherSherineMasonDevikalaDrewSomayehMelpomeniSiyoungShennonDavidRyanNaisargMariaMohammadRachelDaronKatKelseyJamesMaggieSaadAditiBrigetteJairaChristopherGernotTaylorVasilisaSureshbabuThomasTejpalMaheshJakobVictoriaBrianDakotaJimanLaurenBillyJesseJohnVeronicaKyleMichaelHassanMathewIdaIrinaChenMargaretTimothyYiquanRenbinErik\n"
     ]
    }
   ],
   "source": [
    "#rename long string to str_a\n",
    "str_a = ''.join(a)\n",
    "print(str_a)"
   ]
  },
  {
   "cell_type": "code",
   "execution_count": 67,
   "metadata": {
    "collapsed": true
   },
   "outputs": [],
   "source": [
    "la = list(str_a)"
   ]
  },
  {
   "cell_type": "code",
   "execution_count": 68,
   "metadata": {},
   "outputs": [
    {
     "name": "stdout",
     "output_type": "stream",
     "text": [
      "['C', 'h', 'e', 'l', 's', 'e', 'a', 'K', 'i', 'm', 'b', 'e', 'r', 'l', 'e', 'y', 'A', 'r', 'u', 'p', 'C', 'h', 'r', 'i', 's', 't', 'o', 'p', 'h', 'e', 'r', 'S', 'h', 'e', 'r', 'i', 'n', 'e', 'M', 'a', 's', 'o', 'n', 'D', 'e', 'v', 'i', 'k', 'a', 'l', 'a', 'D', 'r', 'e', 'w', 'S', 'o', 'm', 'a', 'y', 'e', 'h', 'M', 'e', 'l', 'p', 'o', 'm', 'e', 'n', 'i', 'S', 'i', 'y', 'o', 'u', 'n', 'g', 'S', 'h', 'e', 'n', 'n', 'o', 'n', 'D', 'a', 'v', 'i', 'd', 'R', 'y', 'a', 'n', 'N', 'a', 'i', 's', 'a', 'r', 'g', 'M', 'a', 'r', 'i', 'a', 'M', 'o', 'h', 'a', 'm', 'm', 'a', 'd', 'R', 'a', 'c', 'h', 'e', 'l', 'D', 'a', 'r', 'o', 'n', 'K', 'a', 't', 'K', 'e', 'l', 's', 'e', 'y', 'J', 'a', 'm', 'e', 's', 'M', 'a', 'g', 'g', 'i', 'e', 'S', 'a', 'a', 'd', 'A', 'd', 'i', 't', 'i', 'B', 'r', 'i', 'g', 'e', 't', 't', 'e', 'J', 'a', 'i', 'r', 'a', 'C', 'h', 'r', 'i', 's', 't', 'o', 'p', 'h', 'e', 'r', 'G', 'e', 'r', 'n', 'o', 't', 'T', 'a', 'y', 'l', 'o', 'r', 'V', 'a', 's', 'i', 'l', 'i', 's', 'a', 'S', 'u', 'r', 'e', 's', 'h', 'b', 'a', 'b', 'u', 'T', 'h', 'o', 'm', 'a', 's', 'T', 'e', 'j', 'p', 'a', 'l', 'M', 'a', 'h', 'e', 's', 'h', 'J', 'a', 'k', 'o', 'b', 'V', 'i', 'c', 't', 'o', 'r', 'i', 'a', 'B', 'r', 'i', 'a', 'n', 'D', 'a', 'k', 'o', 't', 'a', 'J', 'i', 'm', 'a', 'n', 'L', 'a', 'u', 'r', 'e', 'n', 'B', 'i', 'l', 'l', 'y', 'J', 'e', 's', 's', 'e', 'J', 'o', 'h', 'n', 'V', 'e', 'r', 'o', 'n', 'i', 'c', 'a', 'K', 'y', 'l', 'e', 'M', 'i', 'c', 'h', 'a', 'e', 'l', 'H', 'a', 's', 's', 'a', 'n', 'M', 'a', 't', 'h', 'e', 'w', 'I', 'd', 'a', 'I', 'r', 'i', 'n', 'a', 'C', 'h', 'e', 'n', 'M', 'a', 'r', 'g', 'a', 'r', 'e', 't', 'T', 'i', 'm', 'o', 't', 'h', 'y', 'Y', 'i', 'q', 'u', 'a', 'n', 'R', 'e', 'n', 'b', 'i', 'n', 'E', 'r', 'i', 'k']\n"
     ]
    }
   ],
   "source": [
    "print(la)"
   ]
  },
  {
   "cell_type": "code",
   "execution_count": 73,
   "metadata": {},
   "outputs": [
    {
     "data": {
      "text/plain": [
       "'l'"
      ]
     },
     "execution_count": 73,
     "metadata": {},
     "output_type": "execute_result"
    }
   ],
   "source": [
    "la[3]"
   ]
  },
  {
   "cell_type": "code",
   "execution_count": 74,
   "metadata": {
    "collapsed": true
   },
   "outputs": [],
   "source": [
    "#change 'l' to 'r' so output is 'Chersea'\n",
    "la[3] = 'r'"
   ]
  },
  {
   "cell_type": "code",
   "execution_count": 75,
   "metadata": {},
   "outputs": [
    {
     "data": {
      "text/plain": [
       "'CherseaKimberleyArupChristopherSherineMasonDevikalaDrewSomayehMelpomeniSiyoungShennonDavidRyanNaisargMariaMohammadRachelDaronKatKelseyJamesMaggieSaadAditiBrigetteJairaChristopherGernotTaylorVasilisaSureshbabuThomasTejpalMaheshJakobVictoriaBrianDakotaJimanLaurenBillyJesseJohnVeronicaKyleMichaelHassanMathewIdaIrinaChenMargaretTimothyYiquanRenbinErik'"
      ]
     },
     "execution_count": 75,
     "metadata": {},
     "output_type": "execute_result"
    }
   ],
   "source": [
    "''.join(la)"
   ]
  },
  {
   "cell_type": "code",
   "execution_count": 71,
   "metadata": {
    "collapsed": true
   },
   "outputs": [],
   "source": [
    "#''.join() converts between string and list form"
   ]
  },
  {
   "cell_type": "code",
   "execution_count": 76,
   "metadata": {
    "collapsed": true
   },
   "outputs": [],
   "source": [
    "nonsense_string = \"asdfhao83nml29rj`1o29p3wflmudabio8a9lw3finevqaslvrghi8qn4eruav\"\n",
    "\n",
    "###divide into groups again and\n",
    "#0.) find out how many instances of the string 'a' are in the nonsense string using the count method\n",
    "#1.) use the split method to turn nonsense_string into a list, removing all instances of the string 'm'\n",
    "#2.) go to the first element in your new list, change the 3rd value of this element to '9'\n",
    "#3). add the string \"listsarerad\" to the end of the list\n",
    "#4). now that we've made some changes, calculate how many instances of the string 'a' are in your list using the count method\n",
    "#5). turn it back into a string"
   ]
  },
  {
   "cell_type": "code",
   "execution_count": 77,
   "metadata": {},
   "outputs": [
    {
     "data": {
      "text/plain": [
       "6"
      ]
     },
     "execution_count": 77,
     "metadata": {},
     "output_type": "execute_result"
    }
   ],
   "source": [
    "#0.) \n",
    "nonsense_string.count('a')"
   ]
  },
  {
   "cell_type": "code",
   "execution_count": 78,
   "metadata": {},
   "outputs": [
    {
     "data": {
      "text/plain": [
       "['a',\n",
       " 's',\n",
       " 'd',\n",
       " 'f',\n",
       " 'h',\n",
       " 'a',\n",
       " 'o',\n",
       " '8',\n",
       " '3',\n",
       " 'n',\n",
       " 'm',\n",
       " 'l',\n",
       " '2',\n",
       " '9',\n",
       " 'r',\n",
       " 'j',\n",
       " '`',\n",
       " '1',\n",
       " 'o',\n",
       " '2',\n",
       " '9',\n",
       " 'p',\n",
       " '3',\n",
       " 'w',\n",
       " 'f',\n",
       " 'l',\n",
       " 'm',\n",
       " 'u',\n",
       " 'd',\n",
       " 'a',\n",
       " 'b',\n",
       " 'i',\n",
       " 'o',\n",
       " '8',\n",
       " 'a',\n",
       " '9',\n",
       " 'l',\n",
       " 'w',\n",
       " '3',\n",
       " 'f',\n",
       " 'i',\n",
       " 'n',\n",
       " 'e',\n",
       " 'v',\n",
       " 'q',\n",
       " 'a',\n",
       " 's',\n",
       " 'l',\n",
       " 'v',\n",
       " 'r',\n",
       " 'g',\n",
       " 'h',\n",
       " 'i',\n",
       " '8',\n",
       " 'q',\n",
       " 'n',\n",
       " '4',\n",
       " 'e',\n",
       " 'r',\n",
       " 'u',\n",
       " 'a',\n",
       " 'v']"
      ]
     },
     "execution_count": 78,
     "metadata": {},
     "output_type": "execute_result"
    }
   ],
   "source": [
    "list(nonsense_string)"
   ]
  },
  {
   "cell_type": "code",
   "execution_count": 80,
   "metadata": {},
   "outputs": [],
   "source": [
    "#take every instance where there is a 'm,' removes it and splits the string\n",
    "asplit = nonsense_string.split('m')"
   ]
  },
  {
   "cell_type": "code",
   "execution_count": 81,
   "metadata": {},
   "outputs": [
    {
     "data": {
      "text/plain": [
       "['asdfhao83n', 'l29rj`1o29p3wfl', 'udabio8a9lw3finevqaslvrghi8qn4eruav']"
      ]
     },
     "execution_count": 81,
     "metadata": {},
     "output_type": "execute_result"
    }
   ],
   "source": [
    "asplit"
   ]
  },
  {
   "cell_type": "code",
   "execution_count": 86,
   "metadata": {},
   "outputs": [
    {
     "ename": "TypeError",
     "evalue": "'str' object does not support item assignment",
     "output_type": "error",
     "traceback": [
      "\u001b[0;31m---------------------------------------------------------------------------\u001b[0m",
      "\u001b[0;31mTypeError\u001b[0m                                 Traceback (most recent call last)",
      "\u001b[0;32m<ipython-input-86-2f70510324ab>\u001b[0m in \u001b[0;36m<module>\u001b[0;34m()\u001b[0m\n\u001b[0;32m----> 1\u001b[0;31m \u001b[0masplit\u001b[0m\u001b[0;34m[\u001b[0m\u001b[0;36m0\u001b[0m\u001b[0;34m]\u001b[0m\u001b[0;34m[\u001b[0m\u001b[0;36m2\u001b[0m\u001b[0;34m]\u001b[0m \u001b[0;34m=\u001b[0m \u001b[0;34m'9'\u001b[0m\u001b[0;34m\u001b[0m\u001b[0m\n\u001b[0m",
      "\u001b[0;31mTypeError\u001b[0m: 'str' object does not support item assignment"
     ]
    }
   ],
   "source": [
    "asplit[0][2] = '9'"
   ]
  },
  {
   "cell_type": "code",
   "execution_count": 89,
   "metadata": {},
   "outputs": [],
   "source": [
    "newsplit = ''.join(asplit)"
   ]
  },
  {
   "cell_type": "code",
   "execution_count": 90,
   "metadata": {},
   "outputs": [
    {
     "name": "stdout",
     "output_type": "stream",
     "text": [
      "asdfhao83nl29rj`1o29p3wfludabio8a9lw3finevqaslvrghi8qn4eruav\n"
     ]
    }
   ],
   "source": [
    "print(newsplit)"
   ]
  },
  {
   "cell_type": "code",
   "execution_count": 93,
   "metadata": {},
   "outputs": [],
   "source": [
    "b = list(newsplit)"
   ]
  },
  {
   "cell_type": "code",
   "execution_count": 94,
   "metadata": {},
   "outputs": [],
   "source": [
    "b[2] = 9"
   ]
  },
  {
   "cell_type": "code",
   "execution_count": 95,
   "metadata": {},
   "outputs": [
    {
     "name": "stdout",
     "output_type": "stream",
     "text": [
      "['a', 's', 9, 'f', 'h', 'a', 'o', '8', '3', 'n', 'l', '2', '9', 'r', 'j', '`', '1', 'o', '2', '9', 'p', '3', 'w', 'f', 'l', 'u', 'd', 'a', 'b', 'i', 'o', '8', 'a', '9', 'l', 'w', '3', 'f', 'i', 'n', 'e', 'v', 'q', 'a', 's', 'l', 'v', 'r', 'g', 'h', 'i', '8', 'q', 'n', '4', 'e', 'r', 'u', 'a', 'v']\n"
     ]
    }
   ],
   "source": [
    "print(b)"
   ]
  },
  {
   "cell_type": "code",
   "execution_count": 96,
   "metadata": {
    "collapsed": true
   },
   "outputs": [],
   "source": [
    "###divide into groups again and\n",
    "#0.) find out how many instances of the string 'a' are in the nonsense string using the count method\n",
    "#1.) use the split method to turn nonsense_string into a list, removing all instances of the string 'm'\n",
    "#2.) go to the first element in your new list, change the 3rd value of this element to '9'\n",
    "#3). add the string \"listsarerad\" to the end of the list\n",
    "#4). now that we've made some changes, calculate how many instances of the string 'a' are in your list using the count method\n",
    "#5). turn it back into a string\n",
    "\n",
    "b.append('listsarerad')\n",
    "    "
   ]
  },
  {
   "cell_type": "code",
   "execution_count": 97,
   "metadata": {},
   "outputs": [
    {
     "name": "stdout",
     "output_type": "stream",
     "text": [
      "['a', 's', 9, 'f', 'h', 'a', 'o', '8', '3', 'n', 'l', '2', '9', 'r', 'j', '`', '1', 'o', '2', '9', 'p', '3', 'w', 'f', 'l', 'u', 'd', 'a', 'b', 'i', 'o', '8', 'a', '9', 'l', 'w', '3', 'f', 'i', 'n', 'e', 'v', 'q', 'a', 's', 'l', 'v', 'r', 'g', 'h', 'i', '8', 'q', 'n', '4', 'e', 'r', 'u', 'a', 'v', 'listsarerad']\n"
     ]
    }
   ],
   "source": [
    "print(b)"
   ]
  },
  {
   "cell_type": "code",
   "execution_count": 98,
   "metadata": {},
   "outputs": [
    {
     "data": {
      "text/plain": [
       "6"
      ]
     },
     "execution_count": 98,
     "metadata": {},
     "output_type": "execute_result"
    }
   ],
   "source": [
    "b.count('a')"
   ]
  },
  {
   "cell_type": "code",
   "execution_count": 101,
   "metadata": {
    "collapsed": true
   },
   "outputs": [],
   "source": [
    "b[2] = '9'"
   ]
  },
  {
   "cell_type": "code",
   "execution_count": 102,
   "metadata": {},
   "outputs": [
    {
     "data": {
      "text/plain": [
       "['a',\n",
       " 's',\n",
       " '9',\n",
       " 'f',\n",
       " 'h',\n",
       " 'a',\n",
       " 'o',\n",
       " '8',\n",
       " '3',\n",
       " 'n',\n",
       " 'l',\n",
       " '2',\n",
       " '9',\n",
       " 'r',\n",
       " 'j',\n",
       " '`',\n",
       " '1',\n",
       " 'o',\n",
       " '2',\n",
       " '9',\n",
       " 'p',\n",
       " '3',\n",
       " 'w',\n",
       " 'f',\n",
       " 'l',\n",
       " 'u',\n",
       " 'd',\n",
       " 'a',\n",
       " 'b',\n",
       " 'i',\n",
       " 'o',\n",
       " '8',\n",
       " 'a',\n",
       " '9',\n",
       " 'l',\n",
       " 'w',\n",
       " '3',\n",
       " 'f',\n",
       " 'i',\n",
       " 'n',\n",
       " 'e',\n",
       " 'v',\n",
       " 'q',\n",
       " 'a',\n",
       " 's',\n",
       " 'l',\n",
       " 'v',\n",
       " 'r',\n",
       " 'g',\n",
       " 'h',\n",
       " 'i',\n",
       " '8',\n",
       " 'q',\n",
       " 'n',\n",
       " '4',\n",
       " 'e',\n",
       " 'r',\n",
       " 'u',\n",
       " 'a',\n",
       " 'v',\n",
       " 'listsarerad']"
      ]
     },
     "execution_count": 102,
     "metadata": {},
     "output_type": "execute_result"
    }
   ],
   "source": [
    "b"
   ]
  },
  {
   "cell_type": "code",
   "execution_count": 103,
   "metadata": {},
   "outputs": [],
   "source": [
    "rad = ''.join(b)"
   ]
  },
  {
   "cell_type": "code",
   "execution_count": 104,
   "metadata": {},
   "outputs": [
    {
     "data": {
      "text/plain": [
       "'as9fhao83nl29rj`1o29p3wfludabio8a9lw3finevqaslvrghi8qn4eruavlistsarerad'"
      ]
     },
     "execution_count": 104,
     "metadata": {},
     "output_type": "execute_result"
    }
   ],
   "source": [
    "rad"
   ]
  },
  {
   "cell_type": "code",
   "execution_count": 105,
   "metadata": {},
   "outputs": [
    {
     "data": {
      "text/plain": [
       "8"
      ]
     },
     "execution_count": 105,
     "metadata": {},
     "output_type": "execute_result"
    }
   ],
   "source": [
    "rad.count('a')"
   ]
  },
  {
   "cell_type": "code",
   "execution_count": 106,
   "metadata": {},
   "outputs": [
    {
     "data": {
      "text/plain": [
       "str"
      ]
     },
     "execution_count": 106,
     "metadata": {},
     "output_type": "execute_result"
    }
   ],
   "source": [
    "type(rad)"
   ]
  },
  {
   "cell_type": "code",
   "execution_count": 107,
   "metadata": {
    "collapsed": true
   },
   "outputs": [],
   "source": [
    "y = list(rad)"
   ]
  },
  {
   "cell_type": "code",
   "execution_count": 108,
   "metadata": {},
   "outputs": [
    {
     "data": {
      "text/plain": [
       "['a',\n",
       " 's',\n",
       " '9',\n",
       " 'f',\n",
       " 'h',\n",
       " 'a',\n",
       " 'o',\n",
       " '8',\n",
       " '3',\n",
       " 'n',\n",
       " 'l',\n",
       " '2',\n",
       " '9',\n",
       " 'r',\n",
       " 'j',\n",
       " '`',\n",
       " '1',\n",
       " 'o',\n",
       " '2',\n",
       " '9',\n",
       " 'p',\n",
       " '3',\n",
       " 'w',\n",
       " 'f',\n",
       " 'l',\n",
       " 'u',\n",
       " 'd',\n",
       " 'a',\n",
       " 'b',\n",
       " 'i',\n",
       " 'o',\n",
       " '8',\n",
       " 'a',\n",
       " '9',\n",
       " 'l',\n",
       " 'w',\n",
       " '3',\n",
       " 'f',\n",
       " 'i',\n",
       " 'n',\n",
       " 'e',\n",
       " 'v',\n",
       " 'q',\n",
       " 'a',\n",
       " 's',\n",
       " 'l',\n",
       " 'v',\n",
       " 'r',\n",
       " 'g',\n",
       " 'h',\n",
       " 'i',\n",
       " '8',\n",
       " 'q',\n",
       " 'n',\n",
       " '4',\n",
       " 'e',\n",
       " 'r',\n",
       " 'u',\n",
       " 'a',\n",
       " 'v',\n",
       " 'l',\n",
       " 'i',\n",
       " 's',\n",
       " 't',\n",
       " 's',\n",
       " 'a',\n",
       " 'r',\n",
       " 'e',\n",
       " 'r',\n",
       " 'a',\n",
       " 'd']"
      ]
     },
     "execution_count": 108,
     "metadata": {},
     "output_type": "execute_result"
    }
   ],
   "source": [
    "y"
   ]
  },
  {
   "cell_type": "code",
   "execution_count": 109,
   "metadata": {},
   "outputs": [
    {
     "data": {
      "text/plain": [
       "'as9fhao83nl29rj`1o29p3wfludabio8a9lw3finevqaslvrghi8qn4eruavlistsarerad'"
      ]
     },
     "execution_count": 109,
     "metadata": {},
     "output_type": "execute_result"
    }
   ],
   "source": [
    "rad"
   ]
  },
  {
   "cell_type": "code",
   "execution_count": 110,
   "metadata": {},
   "outputs": [
    {
     "data": {
      "text/plain": [
       "{'1',\n",
       " '2',\n",
       " '3',\n",
       " '4',\n",
       " '8',\n",
       " '9',\n",
       " '`',\n",
       " 'a',\n",
       " 'b',\n",
       " 'd',\n",
       " 'e',\n",
       " 'f',\n",
       " 'g',\n",
       " 'h',\n",
       " 'i',\n",
       " 'j',\n",
       " 'l',\n",
       " 'n',\n",
       " 'o',\n",
       " 'p',\n",
       " 'q',\n",
       " 'r',\n",
       " 's',\n",
       " 't',\n",
       " 'u',\n",
       " 'v',\n",
       " 'w'}"
      ]
     },
     "execution_count": 110,
     "metadata": {},
     "output_type": "execute_result"
    }
   ],
   "source": [
    "#pull out unique values\n",
    "set(y)"
   ]
  },
  {
   "cell_type": "code",
   "execution_count": 111,
   "metadata": {},
   "outputs": [
    {
     "data": {
      "text/plain": [
       "71"
      ]
     },
     "execution_count": 111,
     "metadata": {},
     "output_type": "execute_result"
    }
   ],
   "source": [
    "len(y)"
   ]
  },
  {
   "cell_type": "code",
   "execution_count": 112,
   "metadata": {},
   "outputs": [
    {
     "data": {
      "text/plain": [
       "27"
      ]
     },
     "execution_count": 112,
     "metadata": {},
     "output_type": "execute_result"
    }
   ],
   "source": [
    "len(set(y))"
   ]
  },
  {
   "cell_type": "code",
   "execution_count": 113,
   "metadata": {
    "collapsed": true
   },
   "outputs": [],
   "source": [
    "f = set(y)"
   ]
  },
  {
   "cell_type": "code",
   "execution_count": 114,
   "metadata": {},
   "outputs": [
    {
     "data": {
      "text/plain": [
       "{'1',\n",
       " '2',\n",
       " '3',\n",
       " '4',\n",
       " '8',\n",
       " '9',\n",
       " '`',\n",
       " 'a',\n",
       " 'b',\n",
       " 'd',\n",
       " 'e',\n",
       " 'f',\n",
       " 'g',\n",
       " 'h',\n",
       " 'i',\n",
       " 'j',\n",
       " 'l',\n",
       " 'n',\n",
       " 'o',\n",
       " 'p',\n",
       " 'q',\n",
       " 'r',\n",
       " 's',\n",
       " 't',\n",
       " 'u',\n",
       " 'v',\n",
       " 'w'}"
      ]
     },
     "execution_count": 114,
     "metadata": {},
     "output_type": "execute_result"
    }
   ],
   "source": [
    "f"
   ]
  },
  {
   "cell_type": "code",
   "execution_count": null,
   "metadata": {
    "collapsed": true
   },
   "outputs": [],
   "source": []
  }
 ],
 "metadata": {
  "kernelspec": {
   "display_name": "Python 3",
   "language": "python",
   "name": "python3"
  },
  "language_info": {
   "codemirror_mode": {
    "name": "ipython",
    "version": 3
   },
   "file_extension": ".py",
   "mimetype": "text/x-python",
   "name": "python",
   "nbconvert_exporter": "python",
   "pygments_lexer": "ipython3",
   "version": "3.6.1"
  }
 },
 "nbformat": 4,
 "nbformat_minor": 2
}
