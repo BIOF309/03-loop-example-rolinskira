{
 "cells": [
  {
   "cell_type": "markdown",
   "metadata": {},
   "source": [
    "A list is like an array of cells "
   ]
  },
  {
   "cell_type": "markdown",
   "metadata": {},
   "source": [
    "For loops: example\n",
    "\n",
    "For element in list:\n",
    "    do something\n",
    "    store result\n",
    "    \n",
    "What your for loop means:\n",
    "visit address in memory \n",
    "fetch value at address\n",
    "do something\n",
    "put result in new memory address"
   ]
  },
  {
   "cell_type": "markdown",
   "metadata": {},
   "source": []
  }
 ],
 "metadata": {
  "kernelspec": {
   "display_name": "Python 3",
   "language": "python",
   "name": "python3"
  },
  "language_info": {
   "codemirror_mode": {
    "name": "ipython",
    "version": 3
   },
   "file_extension": ".py",
   "mimetype": "text/x-python",
   "name": "python",
   "nbconvert_exporter": "python",
   "pygments_lexer": "ipython3",
   "version": "3.6.1"
  }
 },
 "nbformat": 4,
 "nbformat_minor": 2
}
