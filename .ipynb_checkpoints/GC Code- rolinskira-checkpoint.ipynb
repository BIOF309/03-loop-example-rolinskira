{
 "cells": [
  {
   "cell_type": "code",
   "execution_count": 36,
   "metadata": {
    "collapsed": true
   },
   "outputs": [],
   "source": [
    "#define variable GC with input sequence of DNA\n",
    "GC = 'ACTGATCGATTACGTATAGTATTTGCTATCATACATATATATCGATGCGTTCAT'"
   ]
  },
  {
   "cell_type": "code",
   "execution_count": 20,
   "metadata": {},
   "outputs": [
    {
     "name": "stdout",
     "output_type": "stream",
     "text": [
      "The number of Gs is:\n",
      "8\n"
     ]
    }
   ],
   "source": [
    "#Count the number of G's\n",
    "print('The number of Gs is:')\n",
    "sum1 = GC.count('G')\n",
    "print(sum1)"
   ]
  },
  {
   "cell_type": "code",
   "execution_count": 21,
   "metadata": {},
   "outputs": [
    {
     "name": "stdout",
     "output_type": "stream",
     "text": [
      "The number of Cs is:\n",
      "9\n"
     ]
    }
   ],
   "source": [
    "#Count the number of C's\n",
    "print('The number of Cs is:')\n",
    "sum2 = GC.count('C')\n",
    "print(sum2)"
   ]
  },
  {
   "cell_type": "code",
   "execution_count": 22,
   "metadata": {},
   "outputs": [
    {
     "name": "stdout",
     "output_type": "stream",
     "text": [
      "The length of the sequence is:\n",
      "54\n"
     ]
    }
   ],
   "source": [
    "#Determine the length of the sequence\n",
    "print('The length of the sequence is:')\n",
    "length1 = len(GC)\n",
    "print(length1)"
   ]
  },
  {
   "cell_type": "code",
   "execution_count": 34,
   "metadata": {},
   "outputs": [
    {
     "name": "stdout",
     "output_type": "stream",
     "text": [
      "The sum of G+C nucleotides is:\n",
      "17\n"
     ]
    }
   ],
   "source": [
    "#Add number of G's to number of C's then print result\n",
    "sum_GC = sum1 + sum2\n",
    "print('The sum of G+C nucleotides is:')\n",
    "print(sum_GC)"
   ]
  },
  {
   "cell_type": "code",
   "execution_count": 35,
   "metadata": {},
   "outputs": [
    {
     "name": "stdout",
     "output_type": "stream",
     "text": [
      "Almost there... \n",
      "0.3148148148148148\n"
     ]
    }
   ],
   "source": [
    "#Divide sum of G+C by length of the sequence\n",
    "percentGC = sum_GC/length1\n",
    "print('Almost there... ')\n",
    "print(percentGC)"
   ]
  },
  {
   "cell_type": "code",
   "execution_count": 33,
   "metadata": {},
   "outputs": [
    {
     "name": "stdout",
     "output_type": "stream",
     "text": [
      "The percentage of G+C nucleotides in the given DNA sequence is:\n",
      "31.48148148148148 %\n"
     ]
    }
   ],
   "source": [
    "#Multiply by 100 to get percent and print final result\n",
    "GC_calc = percentGC*100\n",
    "print('The percentage of G+C nucleotides in the given DNA sequence is:')\n",
    "print(GC_calc,'%')"
   ]
  },
  {
   "cell_type": "code",
   "execution_count": null,
   "metadata": {
    "collapsed": true
   },
   "outputs": [],
   "source": []
  }
 ],
 "metadata": {
  "kernelspec": {
   "display_name": "Python 3",
   "language": "python",
   "name": "python3"
  },
  "language_info": {
   "codemirror_mode": {
    "name": "ipython",
    "version": 3
   },
   "file_extension": ".py",
   "mimetype": "text/x-python",
   "name": "python",
   "nbconvert_exporter": "python",
   "pygments_lexer": "ipython3",
   "version": "3.6.1"
  }
 },
 "nbformat": 4,
 "nbformat_minor": 2
}
